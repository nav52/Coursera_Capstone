{
 "cells": [
  {
   "cell_type": "markdown",
   "metadata": {},
   "source": [
    "# Introduction and Business Problem\n",
    "\n",
    "**Introduction:**\n",
    "- The city of Bangalore, India is known as the Garden city but it is packed with restaurants, night life and amazing people. For people that are new to Bangalore, it can be daunting to figure out what restaurants are worth going to and where they are.  For people that used to live in Bangalore or are visiting Bangalore, how do you know what the best places are to get something to eat?\n",
    "    \n",
    "    \n",
    "    \n",
    "**Business Problem:**\n",
    "- For this project, I am going to put on my entrepreneur hat and create a simple guide on where to eat based on Foursquare ratings, price, category and geographic location data for restaurants in Bangalore.  I will then cluster these restaurants based on their similarities so that a user can easily determine what type cuisine they are looking for and in what price range.    "
   ]
  },
  {
   "cell_type": "code",
   "execution_count": null,
   "metadata": {},
   "outputs": [],
   "source": []
  }
 ],
 "metadata": {
  "kernelspec": {
   "display_name": "Python 3",
   "language": "python",
   "name": "python3"
  },
  "language_info": {
   "codemirror_mode": {
    "name": "ipython",
    "version": 3
   },
   "file_extension": ".py",
   "mimetype": "text/x-python",
   "name": "python",
   "nbconvert_exporter": "python",
   "pygments_lexer": "ipython3",
   "version": "3.8.0"
  }
 },
 "nbformat": 4,
 "nbformat_minor": 4
}
