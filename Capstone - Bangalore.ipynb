{
 "cells": [
  {
   "cell_type": "markdown",
   "metadata": {},
   "source": [
    "# Introduction and Business Problem\n",
    "\n",
    "**Introduction:**\n",
    "- The city of Bangalore, India is known as the Garden city but it is packed with restaurants, night life and amazing people. For people that are new to Bangalore, it can be daunting to figure out what restaurants are worth going to and where they are.  For people who are in Bangalore or visiting Bangalore, how do you know what the best places are to get something to eat based on your taste? How do you make a choice on which place will serve your hunger better?\n",
    "    \n",
    "    \n",
    "    \n",
    "**Business Problem:**\n",
    "- For this project, I am going to put on my entrepreneur hat and create a simple guide on where to eat based on Foursquare ratings, price, category and geographic location data for restaurants in Bangalore.  I will then cluster these restaurants based on their similarities so that a user can easily determine what type cuisine they are looking for and in what price range.    "
   ]
  },
  {
   "cell_type": "markdown",
   "metadata": {},
   "source": [
    "# Data Required\n",
    "\n",
    "For this assignment, I will be utilizing the Foursquare API to pull the following location data on restaurants in Bangalore:\n",
    "- Venue Name\n",
    "- Venue ID\n",
    "- Venue Location\n",
    "- Venue Category\n",
    "- Rating\n",
    "- Price\n",
    "- Count of Likes\n",
    "- Phrases"
   ]
  },
  {
   "cell_type": "markdown",
   "metadata": {},
   "source": [
    "# Data Acquisition Approach\n",
    "\n",
    "To acquire the data mentioned above, I will need to do the following:\n",
    "\n",
    "- Get geolocator lat and long coordinates for Bangalore, India\n",
    "- Get a list of all venues in Bangalore\n",
    "- Get venue IDs for each venue in Bangalore\n",
    "- Pull venue name, location, category, rating, price, count of likes and phrases for each venue"
   ]
  },
  {
   "cell_type": "markdown",
   "metadata": {},
   "source": [
    "# Data Usage Approach - Clustering\n",
    "\n",
    "I will take the gathered data (see above in Data Acquisition Approach and Data Required sections) and will create a k-means clustering algorithm that groups restaurants into 4-5 clusters so that people looking to eat in Bangalore can easily see which restaurants will cater to their needs."
   ]
  },
  {
   "cell_type": "code",
   "execution_count": null,
   "metadata": {},
   "outputs": [],
   "source": []
  }
 ],
 "metadata": {
  "kernelspec": {
   "display_name": "Python 3",
   "language": "python",
   "name": "python3"
  },
  "language_info": {
   "codemirror_mode": {
    "name": "ipython",
    "version": 3
   },
   "file_extension": ".py",
   "mimetype": "text/x-python",
   "name": "python",
   "nbconvert_exporter": "python",
   "pygments_lexer": "ipython3",
   "version": "3.8.0"
  }
 },
 "nbformat": 4,
 "nbformat_minor": 4
}
